{
 "cells": [
  {
   "cell_type": "markdown",
   "id": "96999a57-ea4f-45de-a37b-669b7f7a788a",
   "metadata": {},
   "source": [
    "\n",
    "\n",
    "\n",
    "### Data Science Research questions\n",
    "1. **What are the Most Common Brewery Types in San Diego?**\n",
    "2. **What are the top 5 states with the highest temperatures in the summer?**\n",
    "3. **What are the top 5 states with the highest alcohol use disorders for ages 18-25 in 2018?**\n",
    "\n",
    "\n",
    "\n",
    "### Sources\"\n",
    "- Open Brewery DB : https://api.openbrewerydb.org/breweries\n",
    "- Current Results - Weather and Science Facts : https://www.currentresults.com/Weather/US/average-state-temperatures-in-summer.php\n",
    "- Drug Dataset : https://corgis-edu.github.io/corgis/csv/drugs/"
   ]
  },
  {
   "cell_type": "code",
   "execution_count": 225,
   "id": "3f69aa9d-7344-4c41-92f8-c34421ac5451",
   "metadata": {},
   "outputs": [],
   "source": [
    "# Importing all the necessary modules for the rest of the project\n",
    "import requests\n",
    "from bs4 import BeautifulSoup\n",
    "import pandas as pd\n",
    "import matplotlib.pyplot as plt\n",
    "import seaborn as sns\n",
    "import numpy as np"
   ]
  },
  {
   "cell_type": "code",
   "execution_count": 275,
   "id": "6a5252a0-203f-4434-937e-02befab99acf",
   "metadata": {},
   "outputs": [
    {
     "name": "stdout",
     "output_type": "stream",
     "text": [
      "Most Common Brewery Types in San Diego:\n",
      "Micro: 20\n",
      "Brewpub: 11\n",
      "Closed: 6\n",
      "Large: 5\n",
      "Regional: 4\n",
      "Planning: 3\n",
      "Contract: 1\n"
     ]
    }
   ],
   "source": [
    "# URL of the webpage to get information\n",
    "url = \"https://api.openbrewerydb.org/breweries\"\n",
    "\n",
    "# Specifies which city getting information from\n",
    "params = {\n",
    "    \"by_city\": \"San Diego\"\n",
    "}\n",
    "\n",
    "response = requests.get(url, params=params)\n",
    "data = response.json()\n",
    "\n",
    "# Extracting the types of each brewery from the API\n",
    "types = [brewery['brewery_type'] for brewery in data]\n",
    "\n",
    "# Counting the occurrences of each brewery type\n",
    "type_counts = {brewery_type: types.count(brewery_type) for brewery_type in set(types)}\n",
    "\n",
    "# Sorting the brewery types by frequency in descending order\n",
    "sorted_type_counts = sorted(type_counts.items(), key=lambda x: x[1], reverse=True)\n",
    "\n",
    "# Displays the most common brewery types in the specified city\n",
    "print(\"Most Common Brewery Types in San Diego:\")\n",
    "for brewery_type, count in sorted_type_counts:\n",
    "    print(f\"{brewery_type.capitalize()}: {count}\")"
   ]
  },
  {
   "cell_type": "code",
   "execution_count": 277,
   "id": "de01dd3f-6e73-4a29-b614-b483c044ab25",
   "metadata": {},
   "outputs": [
    {
     "name": "stdout",
     "output_type": "stream",
     "text": [
      "The top 5 states with the highest temperatures in the summer:\n",
      "Louisiana: 81.1°F\n",
      "Florida: 81.0°F\n",
      "Mississippi: 79.5°F\n",
      "Arkansas: 78.8°F\n",
      "Georgia: 78.7°F\n"
     ]
    }
   ],
   "source": [
    "# URL of the webpage to scrape it\n",
    "url = \"https://www.currentresults.com/Weather/US/average-state-temperatures-in-summer.php\"\n",
    "\n",
    "# Sending GET request to get the webpage content\n",
    "response = requests.get(url)\n",
    "\n",
    "# Checking if the response works\n",
    "if response.status_code == 200: \n",
    "    # Parse the HTML content using BeautifulSoup\n",
    "    soup = BeautifulSoup(response.content, \"html.parser\")\n",
    "    table = soup.find(\"table\", {\"class\": \"articletable tablecol-1-left\"})\n",
    "    \n",
    "    if not table:\n",
    "        print(\"Table not found.\")\n",
    "    else:\n",
    "         # Finding all rows in the table\n",
    "        rows = table.find_all(\"tr\")\n",
    "        # Initializing an empty list\n",
    "        temperatures = []\n",
    "\n",
    "        # Iterating through each row to get the state and temperature data\n",
    "        for row in rows[1:]:  \n",
    "            cols = row.find_all(\"td\")\n",
    "            if len(cols) > 1:\n",
    "                state = cols[0].text.strip()\n",
    "                temperature_str = cols[1].text.strip()\n",
    "                try:\n",
    "                    temperature = float(temperature_str)\n",
    "                    temperatures.append((state, temperature))\n",
    "                except ValueError:\n",
    "                    print(f\"Skipping invalid data for {state}: {temperature_str}\")\n",
    "        \n",
    "        # Sort the temperatures in descending order\n",
    "        temperatures.sort(key=lambda x: x[1], reverse=True)\n",
    "        \n",
    "        # Get the top 5 states with the highest temperatures\n",
    "        top_5_temperatures = temperatures[:5]\n",
    "\n",
    "\n",
    "        # Prints the results\n",
    "        print(\"The top 5 states with the highest temperatures in the summer:\")\n",
    "        for state, temp in top_5_temperatures:\n",
    "            print(f\"{state}: {temp}°F\")\n",
    "else:\n",
    "    print(f\"Failed. Status code: {response.status_code}\")\n"
   ]
  },
  {
   "cell_type": "code",
   "execution_count": 281,
   "id": "0c981516-185f-4bb8-aae2-df19c7a0743b",
   "metadata": {
    "scrolled": true
   },
   "outputs": [
    {
     "name": "stdout",
     "output_type": "stream",
     "text": [
      "The top 5 states with the highest alcohol use disorders for ages 18-25 in 2018:\n",
      "\n",
      "            State  Totals.Alcohol.Use Disorder Past Year.18-25\n",
      "820    California                                          439\n",
      "859         Texas                                          259\n",
      "848      New York                                          188\n",
      "825       Florida                                          139\n",
      "854  Pennsylvania                                          131\n"
     ]
    }
   ],
   "source": [
    "file_path = \"/Users/sababa/Documents/drugs.csv\"\n",
    "\n",
    "# Read the CSV file into a pandas DataFrame\n",
    "data = pd.read_csv(file_path)\n",
    "\n",
    "# Filter the data to include only rows where the year is 2018\n",
    "filtered_data = data.loc[data[\"Year\"]== 2018]\n",
    "\n",
    "# Sort the filtered data by the alcohol use disorder value for ages 18-25, in descending order, and get only the top 5 states\n",
    "filtered_data = filtered_data.sort_values(by=[\"Totals.Alcohol.Use Disorder Past Year.18-25\"], ascending=False).head(5)\n",
    "\n",
    "# Prints the results\n",
    "print(\"The top 5 states with the highest alcohol use disorders for ages 18-25 in 2018:\")\n",
    "print(\"\")\n",
    "print((filtered_data[[\"State\",\"Totals.Alcohol.Use Disorder Past Year.18-25\"]] ))\n"
   ]
  },
  {
   "cell_type": "code",
   "execution_count": 279,
   "id": "bdd1398c-788d-4a5b-aa31-bfb45e9ccab4",
   "metadata": {},
   "outputs": [
    {
     "data": {
      "text/plain": [
       "[Text(0, 3, '20.0'),\n",
       " Text(0, 3, '11.0'),\n",
       " Text(0, 3, '6.0'),\n",
       " Text(0, 3, '5.0'),\n",
       " Text(0, 3, '4.0'),\n",
       " Text(0, 3, '3.0'),\n",
       " Text(0, 3, '1.0')]"
      ]
     },
     "execution_count": 279,
     "metadata": {},
     "output_type": "execute_result"
    },
    {
     "data": {
      "image/png": "[encoded data removed]",
      "text/plain": [
       "<Figure size 640x480 with 1 Axes>"
      ]
     },
     "metadata": {},
     "output_type": "display_data"
    }
   ],
   "source": [
    "# List of brewery types and their corresponding counts\n",
    "brewery_names = ['Micro', 'Brewpub', 'Closed', 'Large', 'Regional', 'Planning', 'Contract']\n",
    "brewery_amounts = [20, 11, 6, 5, 4, 3, 1]\n",
    "\n",
    "# Create a bar plot for the brewery types and their counts\n",
    "fig, ax = plt.subplots()\n",
    "\n",
    "# Creates bar chart\n",
    "bar_container = ax.bar(brewery_names, brewery_amounts, width=0.5)\n",
    "\n",
    "# Creates y axis in bold\n",
    "ax.set_ylabel('Relative Frequency', fontweight='bold')\n",
    "\n",
    "# Creates x axis in bold\n",
    "ax.set_xlabel('Types', fontweight='bold')\n",
    "\n",
    "# Creates title in specific size and bold\n",
    "ax.set_title('Most Common Brewery Types in San Diego', fontsize=12, fontweight='bold')\n",
    "\n",
    "# Sets the limit for the y axis\n",
    "ax.set(ylim=(0, 25))\n",
    "\n",
    "ax.bar_label(bar_container, fmt='{:,.1f}', padding=3)\n"
   ]
  },
  {
   "cell_type": "code",
   "execution_count": null,
   "id": "d1e47e7d-2d30-4fbf-a98f-8e2201b1d039",
   "metadata": {},
   "outputs": [],
   "source": [
    "\"The bar chart displays the different types of breweries in San Diego, showing the relative frequency of each type. The x-axis\"\n",
    "\"represents the brewery types, and the y-axis shows the number of breweries in each category. The categories include Microbreweries, \"\n",
    "\"Brewpubs, Closed breweries, Large breweries, Regional breweries, breweries 'Planning' to open, and Contract breweries.\""
   ]
  },
  {
   "cell_type": "code",
   "execution_count": null,
   "id": "da5566fd-59d2-4317-942a-ab6702101913",
   "metadata": {},
   "outputs": [],
   "source": [
    "'''Feedback'''\n",
    "\n",
    "'''Formatting bolded words and headers to make things look more clear - Jack & Sean''' \n",
    "\n",
    "''' My response: thank you for the feedback, I will take note on that'''\n",
    "\n",
    "'''I used the feed back to change the size and bold the letters of the x-axis, y-axis, and title of the graph to make it more clear\n",
    "and have better visualization.'''"
   ]
  },
  {
   "cell_type": "code",
   "execution_count": null,
   "id": "f83b972d-1b17-4fbf-acb3-8a5867f2997b",
   "metadata": {},
   "outputs": [],
   "source": []
  }
 ],
 "metadata": {
  "kernelspec": {
   "display_name": "Python 3 (ipykernel)",
   "language": "python",
   "name": "python3"
  },
  "language_info": {
   "codemirror_mode": {
    "name": "ipython",
    "version": 3
   },
   "file_extension": ".py",
   "mimetype": "text/x-python",
   "name": "python",
   "nbconvert_exporter": "python",
   "pygments_lexer": "ipython3",
   "version": "3.10.14"
  }
 },
 "nbformat": 4,
 "nbformat_minor": 5
}
